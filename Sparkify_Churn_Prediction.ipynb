{
 "cells": [
  {
   "cell_type": "markdown",
   "metadata": {},
   "source": [
    "# Sparkify Project Workspace\n",
    "This workspace contains a tiny subset (128MB) of the full dataset available (12GB). Feel free to use this workspace to build your project, or to explore a smaller subset with Spark before deploying your cluster on the cloud. Instructions for setting up your Spark cluster is included in the last lesson of the Extracurricular Spark Course content.\n",
    "\n",
    "You can follow the steps below to guide your data analysis and model building portion of this project."
   ]
  },
  {
   "cell_type": "code",
   "execution_count": 1,
   "metadata": {},
   "outputs": [],
   "source": [
    "# import libraries\n",
    "# import libraries\n",
    "from pyspark.sql import SparkSession\n",
    "from pyspark.sql.functions import col, udf, desc\n",
    "from pyspark.sql.types import IntegerType, StringType, FloatType\n",
    "from pyspark.ml.feature import VectorAssembler, StandardScaler, StringIndexer, OneHotEncoder\n",
    "from pyspark.ml.classification import LogisticRegression, RandomForestClassifier, GBTClassifier\n",
    "from pyspark.ml.evaluation import MulticlassClassificationEvaluator\n",
    "from pyspark.ml.tuning import CrossValidator, ParamGridBuilder\n",
    "\n",
    "import matplotlib.pyplot as plt\n",
    "import numpy as np\n",
    "import pandas as pd"
   ]
  },
  {
   "cell_type": "code",
   "execution_count": 2,
   "metadata": {},
   "outputs": [],
   "source": [
    "# create a Spark session\n",
    "# create a Spark session\n",
    "spark = SparkSession.builder \\\n",
    "    .appName(\"Sparkify Churn Prediction\") \\\n",
    "    .getOrCreate()\n",
    "\n"
   ]
  },
  {
   "cell_type": "markdown",
   "metadata": {},
   "source": [
    "# Load and Clean Dataset\n",
    "In this workspace, the mini-dataset file is `mini_sparkify_event_data.json`. Load and clean the dataset, checking for invalid or missing data - for example, records without userids or sessionids. "
   ]
  },
  {
   "cell_type": "code",
   "execution_count": 3,
   "metadata": {},
   "outputs": [
    {
     "name": "stdout",
     "output_type": "stream",
     "text": [
      "root\n",
      " |-- artist: string (nullable = true)\n",
      " |-- auth: string (nullable = true)\n",
      " |-- firstName: string (nullable = true)\n",
      " |-- gender: string (nullable = true)\n",
      " |-- itemInSession: long (nullable = true)\n",
      " |-- lastName: string (nullable = true)\n",
      " |-- length: double (nullable = true)\n",
      " |-- level: string (nullable = true)\n",
      " |-- location: string (nullable = true)\n",
      " |-- method: string (nullable = true)\n",
      " |-- page: string (nullable = true)\n",
      " |-- registration: long (nullable = true)\n",
      " |-- sessionId: long (nullable = true)\n",
      " |-- song: string (nullable = true)\n",
      " |-- status: long (nullable = true)\n",
      " |-- ts: long (nullable = true)\n",
      " |-- userAgent: string (nullable = true)\n",
      " |-- userId: string (nullable = true)\n",
      "\n",
      "+----------------+---------+---------+------+-------------+--------+---------+-----+--------------------+------+--------+-------------+---------+--------------------+------+-------------+--------------------+------+\n",
      "|          artist|     auth|firstName|gender|itemInSession|lastName|   length|level|            location|method|    page| registration|sessionId|                song|status|           ts|           userAgent|userId|\n",
      "+----------------+---------+---------+------+-------------+--------+---------+-----+--------------------+------+--------+-------------+---------+--------------------+------+-------------+--------------------+------+\n",
      "|  Martha Tilston|Logged In|    Colin|     M|           50| Freeman|277.89016| paid|     Bakersfield, CA|   PUT|NextSong|1538173362000|       29|           Rockpools|   200|1538352117000|Mozilla/5.0 (Wind...|    30|\n",
      "|Five Iron Frenzy|Logged In|    Micah|     M|           79|    Long|236.09424| free|Boston-Cambridge-...|   PUT|NextSong|1538331630000|        8|              Canada|   200|1538352180000|\"Mozilla/5.0 (Win...|     9|\n",
      "|    Adam Lambert|Logged In|    Colin|     M|           51| Freeman| 282.8273| paid|     Bakersfield, CA|   PUT|NextSong|1538173362000|       29|   Time For Miracles|   200|1538352394000|Mozilla/5.0 (Wind...|    30|\n",
      "|          Enigma|Logged In|    Micah|     M|           80|    Long|262.71302| free|Boston-Cambridge-...|   PUT|NextSong|1538331630000|        8|Knocking On Forbi...|   200|1538352416000|\"Mozilla/5.0 (Win...|     9|\n",
      "|       Daft Punk|Logged In|    Colin|     M|           52| Freeman|223.60771| paid|     Bakersfield, CA|   PUT|NextSong|1538173362000|       29|Harder Better Fas...|   200|1538352676000|Mozilla/5.0 (Wind...|    30|\n",
      "+----------------+---------+---------+------+-------------+--------+---------+-----+--------------------+------+--------+-------------+---------+--------------------+------+-------------+--------------------+------+\n",
      "only showing top 5 rows\n",
      "\n",
      "root\n",
      " |-- artist: string (nullable = true)\n",
      " |-- auth: string (nullable = true)\n",
      " |-- firstName: string (nullable = true)\n",
      " |-- gender: string (nullable = true)\n",
      " |-- itemInSession: long (nullable = true)\n",
      " |-- lastName: string (nullable = true)\n",
      " |-- length: double (nullable = true)\n",
      " |-- level: string (nullable = true)\n",
      " |-- location: string (nullable = true)\n",
      " |-- method: string (nullable = true)\n",
      " |-- page: string (nullable = true)\n",
      " |-- registration: long (nullable = true)\n",
      " |-- sessionId: long (nullable = true)\n",
      " |-- song: string (nullable = true)\n",
      " |-- status: long (nullable = true)\n",
      " |-- ts: long (nullable = true)\n",
      " |-- userAgent: string (nullable = true)\n",
      " |-- userId: string (nullable = true)\n",
      "\n",
      "+----------------+---------+---------+------+-------------+--------+---------+-----+--------------------+------+--------+-------------+---------+--------------------+------+-------------+--------------------+------+\n",
      "|          artist|     auth|firstName|gender|itemInSession|lastName|   length|level|            location|method|    page| registration|sessionId|                song|status|           ts|           userAgent|userId|\n",
      "+----------------+---------+---------+------+-------------+--------+---------+-----+--------------------+------+--------+-------------+---------+--------------------+------+-------------+--------------------+------+\n",
      "|  Martha Tilston|Logged In|    Colin|     M|           50| Freeman|277.89016| paid|     Bakersfield, CA|   PUT|NextSong|1538173362000|       29|           Rockpools|   200|1538352117000|Mozilla/5.0 (Wind...|    30|\n",
      "|Five Iron Frenzy|Logged In|    Micah|     M|           79|    Long|236.09424| free|Boston-Cambridge-...|   PUT|NextSong|1538331630000|        8|              Canada|   200|1538352180000|\"Mozilla/5.0 (Win...|     9|\n",
      "|    Adam Lambert|Logged In|    Colin|     M|           51| Freeman| 282.8273| paid|     Bakersfield, CA|   PUT|NextSong|1538173362000|       29|   Time For Miracles|   200|1538352394000|Mozilla/5.0 (Wind...|    30|\n",
      "|          Enigma|Logged In|    Micah|     M|           80|    Long|262.71302| free|Boston-Cambridge-...|   PUT|NextSong|1538331630000|        8|Knocking On Forbi...|   200|1538352416000|\"Mozilla/5.0 (Win...|     9|\n",
      "|       Daft Punk|Logged In|    Colin|     M|           52| Freeman|223.60771| paid|     Bakersfield, CA|   PUT|NextSong|1538173362000|       29|Harder Better Fas...|   200|1538352676000|Mozilla/5.0 (Wind...|    30|\n",
      "+----------------+---------+---------+------+-------------+--------+---------+-----+--------------------+------+--------+-------------+---------+--------------------+------+-------------+--------------------+------+\n",
      "only showing top 5 rows\n",
      "\n"
     ]
    }
   ],
   "source": [
    "# Load and Clean Dataset\n",
    "\n",
    "# Load the dataset\n",
    "file_path = \"mini_sparkify_event_data.json\"\n",
    "df = spark.read.json(file_path)\n",
    "\n",
    "# Show the schema of the dataframe to understand its structure\n",
    "df.printSchema()\n",
    "\n",
    "# Display the first few rows of the dataframe to get an overview of the data\n",
    "df.show(5)\n",
    "\n",
    "# Clean the dataset\n",
    "# Remove rows with missing userId or sessionId\n",
    "df_cleaned = df.dropna(how=\"any\", subset=[\"userId\", \"sessionId\"])\n",
    "\n",
    "# Check if there are any empty userId fields (sometimes userId can be an empty string, not null)\n",
    "df_cleaned = df_cleaned.filter(df_cleaned[\"userId\"] != \"\")\n",
    "\n",
    "# Verify the cleaning steps\n",
    "df_cleaned.printSchema()\n",
    "df_cleaned.show(5)\n"
   ]
  },
  {
   "cell_type": "markdown",
   "metadata": {},
   "source": [
    "# Exploratory Data Analysis\n",
    "When you're working with the full dataset, perform EDA by loading a small subset of the data and doing basic manipulations within Spark. In this workspace, you are already provided a small subset of data you can explore.\n",
    "\n",
    "### Define Churn\n",
    "\n",
    "Once you've done some preliminary analysis, create a column `Churn` to use as the label for your model. I suggest using the `Cancellation Confirmation` events to define your churn, which happen for both paid and free users. As a bonus task, you can also look into the `Downgrade` events.\n",
    "\n",
    "### Explore Data\n",
    "Once you've defined churn, perform some exploratory data analysis to observe the behavior for users who stayed vs users who churned. You can start by exploring aggregates on these two groups of users, observing how much of a specific action they experienced per a certain time unit or number of songs played."
   ]
  },
  {
   "cell_type": "code",
   "execution_count": 4,
   "metadata": {},
   "outputs": [
    {
     "name": "stdout",
     "output_type": "stream",
     "text": [
      "+------+---------------+-----+\n",
      "|userId|           page|churn|\n",
      "+------+---------------+-----+\n",
      "|100010|       NextSong|    0|\n",
      "|100010|      Thumbs Up|    0|\n",
      "|100010|    Roll Advert|    0|\n",
      "|100010|           Home|    0|\n",
      "|100010|         Logout|    0|\n",
      "|100010|Add to Playlist|    0|\n",
      "|100010|           Help|    0|\n",
      "|100010|     Add Friend|    0|\n",
      "|100010|    Thumbs Down|    0|\n",
      "|100010|        Upgrade|    0|\n",
      "+------+---------------+-----+\n",
      "only showing top 10 rows\n",
      "\n"
     ]
    }
   ],
   "source": [
    "# Import necessary functions\n",
    "from pyspark.sql.functions import lit\n",
    "\n",
    "# Define churn based on 'Cancellation Confirmation' events\n",
    "churn_flag = df_cleaned.filter(df_cleaned.page == \"Cancellation Confirmation\") \\\n",
    "                       .select(\"userId\").dropDuplicates() \\\n",
    "                       .withColumn(\"churn\", lit(1))\n",
    "\n",
    "# Join this churn information with the main dataset\n",
    "df_cleaned = df_cleaned.join(churn_flag, on=\"userId\", how=\"left\")\n",
    "\n",
    "# Fill NaN values in 'churn' column with 0\n",
    "df_cleaned = df_cleaned.na.fill({\"churn\": 0})\n",
    "\n",
    "# Verify the churn flag\n",
    "df_cleaned.select(\"userId\", \"page\", \"churn\").distinct().show(10)\n",
    "\n",
    "\n"
   ]
  },
  {
   "cell_type": "code",
   "execution_count": 7,
   "metadata": {},
   "outputs": [
    {
     "name": "stdout",
     "output_type": "stream",
     "text": [
      "+-----+---------+\n",
      "|churn|num_users|\n",
      "+-----+---------+\n",
      "|    1|    44864|\n",
      "|    0|   233290|\n",
      "+-----+---------+\n",
      "\n",
      "+-----+------------------+\n",
      "|churn|  avg_songs_played|\n",
      "+-----+------------------+\n",
      "|    1| 699.8846153846154|\n",
      "|    0|1108.1734104046243|\n",
      "+-----+------------------+\n",
      "\n",
      "+-----+------------------+\n",
      "|churn|avg_session_length|\n",
      "+-----+------------------+\n",
      "|    1| 174014.2685513462|\n",
      "|    0|276166.93746780336|\n",
      "+-----+------------------+\n",
      "\n"
     ]
    }
   ],
   "source": [
    "# Number of churned vs. non-churned users\n",
    "churn_counts = df_cleaned.groupBy(\"churn\").agg({\"userId\": \"count\"}).withColumnRenamed(\"count(userId)\", \"num_users\")\n",
    "churn_counts.show()\n",
    "\n",
    "# Average number of songs played by churned vs. non-churned users\n",
    "avg_songs = df_cleaned.filter(df_cleaned.page == \"NextSong\") \\\n",
    "                      .groupBy(\"userId\", \"churn\") \\\n",
    "                      .count() \\\n",
    "                      .groupBy(\"churn\") \\\n",
    "                      .agg({\"count\": \"avg\"}).withColumnRenamed(\"avg(count)\", \"avg_songs_played\")\n",
    "avg_songs.show()\n",
    "\n",
    "# Average session length for churned vs. non-churned users\n",
    "avg_session_length = df_cleaned.groupBy(\"userId\", \"churn\") \\\n",
    "                               .agg({\"length\": \"sum\"}) \\\n",
    "                               .groupBy(\"churn\") \\\n",
    "                               .agg({\"sum(length)\": \"avg\"}).withColumnRenamed(\"avg(sum(length))\", \"avg_session_length\")\n",
    "avg_session_length.show()\n"
   ]
  },
  {
   "cell_type": "code",
   "execution_count": 8,
   "metadata": {},
   "outputs": [
    {
     "name": "stdout",
     "output_type": "stream",
     "text": [
      "+-----+------------------+\n",
      "|churn|  avg_songs_played|\n",
      "+-----+------------------+\n",
      "|    1| 699.8846153846154|\n",
      "|    0|1108.1734104046243|\n",
      "+-----+------------------+\n",
      "\n"
     ]
    }
   ],
   "source": [
    "# Average number of songs played by churned vs. non-churned users\n",
    "avg_songs = df_cleaned.filter(df_cleaned.page == \"NextSong\") \\\n",
    "                      .groupBy(\"userId\", \"churn\") \\\n",
    "                      .count() \\\n",
    "                      .groupBy(\"churn\") \\\n",
    "                      .agg({\"count\": \"avg\"}).withColumnRenamed(\"avg(count)\", \"avg_songs_played\")\n",
    "avg_songs.show()\n"
   ]
  },
  {
   "cell_type": "code",
   "execution_count": 9,
   "metadata": {},
   "outputs": [
    {
     "name": "stdout",
     "output_type": "stream",
     "text": [
      "+-----+------------------+\n",
      "|churn|avg_session_length|\n",
      "+-----+------------------+\n",
      "|    1| 174014.2685513462|\n",
      "|    0|276166.93746780336|\n",
      "+-----+------------------+\n",
      "\n"
     ]
    }
   ],
   "source": [
    "# Average session length for churned vs. non-churned users\n",
    "avg_session_length = df_cleaned.groupBy(\"userId\", \"churn\") \\\n",
    "                               .agg({\"length\": \"sum\"}) \\\n",
    "                               .groupBy(\"churn\") \\\n",
    "                               .agg({\"sum(length)\": \"avg\"}).withColumnRenamed(\"avg(sum(length))\", \"avg_session_length\")\n",
    "avg_session_length.show()\n"
   ]
  },
  {
   "cell_type": "code",
   "execution_count": 10,
   "metadata": {},
   "outputs": [
    {
     "name": "stdout",
     "output_type": "stream",
     "text": [
      "+-----+-----------------+\n",
      "|churn|    avg_thumbs_up|\n",
      "+-----+-----------------+\n",
      "|    1|            37.18|\n",
      "|    0|62.89411764705882|\n",
      "+-----+-----------------+\n",
      "\n",
      "+-----+------------------+\n",
      "|churn|   avg_thumbs_down|\n",
      "+-----+------------------+\n",
      "|    1|10.333333333333334|\n",
      "|    0|13.225806451612904|\n",
      "+-----+------------------+\n",
      "\n"
     ]
    }
   ],
   "source": [
    "# Average number of Thumbs Up interactions for churned vs. non-churned users\n",
    "avg_thumbs_up = df_cleaned.filter(df_cleaned.page == \"Thumbs Up\") \\\n",
    "                          .groupBy(\"userId\", \"churn\") \\\n",
    "                          .count() \\\n",
    "                          .groupBy(\"churn\") \\\n",
    "                          .agg({\"count\": \"avg\"}).withColumnRenamed(\"avg(count)\", \"avg_thumbs_up\")\n",
    "avg_thumbs_up.show()\n",
    "\n",
    "# Average number of Thumbs Down interactions for churned vs. non-churned users\n",
    "avg_thumbs_down = df_cleaned.filter(df_cleaned.page == \"Thumbs Down\") \\\n",
    "                            .groupBy(\"userId\", \"churn\") \\\n",
    "                            .count() \\\n",
    "                            .groupBy(\"churn\") \\\n",
    "                            .agg({\"count\": \"avg\"}).withColumnRenamed(\"avg(count)\", \"avg_thumbs_down\")\n",
    "avg_thumbs_down.show()\n"
   ]
  },
  {
   "cell_type": "code",
   "execution_count": 11,
   "metadata": {},
   "outputs": [
    {
     "name": "stdout",
     "output_type": "stream",
     "text": [
      "+-----+------------------+\n",
      "|churn|   avg_thumbs_down|\n",
      "+-----+------------------+\n",
      "|    1|10.333333333333334|\n",
      "|    0|13.225806451612904|\n",
      "+-----+------------------+\n",
      "\n"
     ]
    }
   ],
   "source": [
    "# Average number of Thumbs Down interactions for churned vs. non-churned users\n",
    "avg_thumbs_down = df_cleaned.filter(df_cleaned.page == \"Thumbs Down\") \\\n",
    "                            .groupBy(\"userId\", \"churn\") \\\n",
    "                            .count() \\\n",
    "                            .groupBy(\"churn\") \\\n",
    "                            .agg({\"count\": \"avg\"}).withColumnRenamed(\"avg(count)\", \"avg_thumbs_down\")\n",
    "avg_thumbs_down.show()\n"
   ]
  },
  {
   "cell_type": "code",
   "execution_count": 12,
   "metadata": {},
   "outputs": [
    {
     "name": "stdout",
     "output_type": "stream",
     "text": [
      "+-----+------------------+\n",
      "|churn|    avg_add_friend|\n",
      "+-----+------------------+\n",
      "|    1|14.454545454545455|\n",
      "|    0| 22.47530864197531|\n",
      "+-----+------------------+\n",
      "\n",
      "+-----+-----------------+\n",
      "|churn| avg_add_playlist|\n",
      "+-----+-----------------+\n",
      "|    1|            20.76|\n",
      "|    0|33.26060606060606|\n",
      "+-----+-----------------+\n",
      "\n"
     ]
    }
   ],
   "source": [
    "# Average number of Add Friend interactions for churned vs. non-churned users\n",
    "avg_add_friend = df_cleaned.filter(df_cleaned.page == \"Add Friend\") \\\n",
    "                           .groupBy(\"userId\", \"churn\") \\\n",
    "                           .count() \\\n",
    "                           .groupBy(\"churn\") \\\n",
    "                           .agg({\"count\": \"avg\"}).withColumnRenamed(\"avg(count)\", \"avg_add_friend\")\n",
    "avg_add_friend.show()\n",
    "\n",
    "# Average number of Add to Playlist interactions for churned vs. non-churned users\n",
    "avg_add_playlist = df_cleaned.filter(df_cleaned.page == \"Add to Playlist\") \\\n",
    "                             .groupBy(\"userId\", \"churn\") \\\n",
    "                             .count() \\\n",
    "                             .groupBy(\"churn\") \\\n",
    "                             .agg({\"count\": \"avg\"}).withColumnRenamed(\"avg(count)\", \"avg_add_playlist\")\n",
    "avg_add_playlist.show()\n"
   ]
  },
  {
   "cell_type": "code",
   "execution_count": 13,
   "metadata": {},
   "outputs": [
    {
     "name": "stdout",
     "output_type": "stream",
     "text": [
      "+-----+-----------------+\n",
      "|churn| avg_add_playlist|\n",
      "+-----+-----------------+\n",
      "|    1|            20.76|\n",
      "|    0|33.26060606060606|\n",
      "+-----+-----------------+\n",
      "\n"
     ]
    }
   ],
   "source": [
    "# Average number of Add to Playlist interactions for churned vs. non-churned users\n",
    "avg_add_playlist = df_cleaned.filter(df_cleaned.page == \"Add to Playlist\") \\\n",
    "                             .groupBy(\"userId\", \"churn\") \\\n",
    "                             .count() \\\n",
    "                             .groupBy(\"churn\") \\\n",
    "                             .agg({\"count\": \"avg\"}).withColumnRenamed(\"avg(count)\", \"avg_add_playlist\")\n",
    "avg_add_playlist.show()\n"
   ]
  },
  {
   "cell_type": "markdown",
   "metadata": {},
   "source": [
    "# Feature Engineering\n",
    "Once you've familiarized yourself with the data, build out the features you find promising to train your model on. To work with the full dataset, you can follow the following steps.\n",
    "- Write a script to extract the necessary features from the smaller subset of data\n",
    "- Ensure that your script is scalable, using the best practices discussed in Lesson 3\n",
    "- Try your script on the full data set, debugging your script if necessary\n",
    "\n",
    "If you are working in the classroom workspace, you can just extract features based on the small subset of data contained here. Be sure to transfer over this work to the larger dataset when you work on your Spark cluster."
   ]
  },
  {
   "cell_type": "code",
   "execution_count": 15,
   "metadata": {},
   "outputs": [
    {
     "name": "stdout",
     "output_type": "stream",
     "text": [
      "+------+---------+--------------------+-------------+---------------+--------------+----------------+-----+\n",
      "|userId|num_songs|total_session_length|num_thumbs_up|num_thumbs_down|num_add_friend|num_add_playlist|churn|\n",
      "+------+---------+--------------------+-------------+---------------+--------------+----------------+-----+\n",
      "|100010|      275|   66940.89735000003|           17|              5|             4|               7|    0|\n",
      "|200002|      387|   94008.87593999993|           21|              6|             4|               8|    0|\n",
      "|   125|        8|  2089.1131000000005|            0|              0|             0|               0|    1|\n",
      "|   124|     4079|  1012312.0927899999|          171|             41|            74|             118|    0|\n",
      "|    51|     2111|   523275.8428000004|          100|             21|            28|              52|    1|\n",
      "+------+---------+--------------------+-------------+---------------+--------------+----------------+-----+\n",
      "only showing top 5 rows\n",
      "\n"
     ]
    }
   ],
   "source": [
    "from pyspark.sql.functions import sum as Fsum, count as Fcount\n",
    "\n",
    "# Number of songs played\n",
    "num_songs = df_cleaned.filter(df_cleaned.page == \"NextSong\") \\\n",
    "                      .groupBy(\"userId\") \\\n",
    "                      .agg(Fcount(\"page\").alias(\"num_songs\"))\n",
    "\n",
    "# Total session length\n",
    "total_session_length = df_cleaned.groupBy(\"userId\") \\\n",
    "                                 .agg(Fsum(\"length\").alias(\"total_session_length\"))\n",
    "\n",
    "# Number of Thumbs Up interactions\n",
    "num_thumbs_up = df_cleaned.filter(df_cleaned.page == \"Thumbs Up\") \\\n",
    "                          .groupBy(\"userId\") \\\n",
    "                          .agg(Fcount(\"page\").alias(\"num_thumbs_up\"))\n",
    "\n",
    "# Number of Thumbs Down interactions\n",
    "num_thumbs_down = df_cleaned.filter(df_cleaned.page == \"Thumbs Down\") \\\n",
    "                            .groupBy(\"userId\") \\\n",
    "                            .agg(Fcount(\"page\").alias(\"num_thumbs_down\"))\n",
    "\n",
    "# Number of Add Friend interactions\n",
    "num_add_friend = df_cleaned.filter(df_cleaned.page == \"Add Friend\") \\\n",
    "                           .groupBy(\"userId\") \\\n",
    "                           .agg(Fcount(\"page\").alias(\"num_add_friend\"))\n",
    "\n",
    "# Number of Add to Playlist interactions\n",
    "num_add_playlist = df_cleaned.filter(df_cleaned.page == \"Add to Playlist\") \\\n",
    "                             .groupBy(\"userId\") \\\n",
    "                             .agg(Fcount(\"page\").alias(\"num_add_playlist\"))\n",
    "\n",
    "# Combine all features into a single DataFrame\n",
    "features = num_songs.join(total_session_length, on=\"userId\", how=\"left\") \\\n",
    "                    .join(num_thumbs_up, on=\"userId\", how=\"left\") \\\n",
    "                    .join(num_thumbs_down, on=\"userId\", how=\"left\") \\\n",
    "                    .join(num_add_friend, on=\"userId\", how=\"left\") \\\n",
    "                    .join(num_add_playlist, on=\"userId\", how=\"left\") \\\n",
    "                    .join(df_cleaned.select(\"userId\", \"churn\").distinct(), on=\"userId\", how=\"left\")\n",
    "\n",
    "# Fill NaN values with 0 (in case some users did not have any interaction of a certain type)\n",
    "features = features.na.fill(0)\n",
    "\n",
    "# Show the resulting feature DataFrame\n",
    "features.show(5)\n"
   ]
  },
  {
   "cell_type": "code",
   "execution_count": 21,
   "metadata": {},
   "outputs": [
    {
     "name": "stdout",
     "output_type": "stream",
     "text": [
      "Columns in DataFrame: Index(['userId', 'num_songs', 'total_session_length', 'num_thumbs_up',\n",
      "       'num_thumbs_down', 'num_add_friend', 'num_add_playlist', 'churn'],\n",
      "      dtype='object')\n",
      "Missing columns: []\n"
     ]
    },
    {
     "data": {
      "image/png": "[encoded data removed]",
      "text/plain": [
       "<matplotlib.figure.Figure at 0x7bfb1cd568d0>"
      ]
     },
     "metadata": {
      "needs_background": "light"
     },
     "output_type": "display_data"
    }
   ],
   "source": [
    "# Convert Spark DataFrame to Pandas for visualization\n",
    "df_pd = features.toPandas()\n",
    "\n",
    "# Print the column names to verify\n",
    "print(\"Columns in DataFrame:\", df_pd.columns)\n",
    "\n",
    "# Check if the necessary columns are present\n",
    "expected_columns = ['num_songs', 'total_session_length', 'num_thumbs_up', 'num_thumbs_down', 'num_add_friend', 'num_add_playlist']\n",
    "missing_columns = [col for col in expected_columns if col not in df_pd.columns]\n",
    "print(\"Missing columns:\", missing_columns)\n",
    "\n",
    "# Plot histograms of user interactions if all columns are present\n",
    "if not missing_columns:\n",
    "    import matplotlib.pyplot as plt\n",
    "\n",
    "    fig, axes = plt.subplots(2, 3, figsize=(15, 10))\n",
    "    df_pd.hist(column='num_songs', bins=50, ax=axes[0, 0])\n",
    "    df_pd.hist(column='total_session_length', bins=50, ax=axes[0, 1])\n",
    "    df_pd.hist(column='num_thumbs_up', bins=50, ax=axes[0, 2])\n",
    "    df_pd.hist(column='num_thumbs_down', bins=50, ax=axes[1, 0])\n",
    "    df_pd.hist(column='num_add_friend', bins=50, ax=axes[1, 1])\n",
    "    df_pd.hist(column='num_add_playlist', bins=50, ax=axes[1, 2])\n",
    "    plt.tight_layout()\n",
    "    plt.show()\n",
    "else:\n",
    "    print(\"One or more necessary columns are missing:\", missing_columns)\n"
   ]
  },
  {
   "cell_type": "code",
   "execution_count": 22,
   "metadata": {},
   "outputs": [
    {
     "data": {
      "text/plain": [
       "<matplotlib.figure.Figure at 0x7bfb1e4d2fd0>"
      ]
     },
     "metadata": {},
     "output_type": "display_data"
    },
    {
     "data": {
      "image/png": "[encoded data removed]",
      "text/plain": [
       "<matplotlib.figure.Figure at 0x7bfb1d9d19b0>"
      ]
     },
     "metadata": {
      "needs_background": "light"
     },
     "output_type": "display_data"
    }
   ],
   "source": [
    "# Box plot of session lengths\n",
    "plt.figure(figsize=(10, 6))\n",
    "df_pd.boxplot(column='total_session_length', by='churn')\n",
    "plt.title('Box Plot of Session Lengths by Churn')\n",
    "plt.xlabel('Churn')\n",
    "plt.ylabel('Total Session Length')\n",
    "plt.show()\n"
   ]
  },
  {
   "cell_type": "code",
   "execution_count": 23,
   "metadata": {},
   "outputs": [
    {
     "data": {
      "image/png": "[encoded data removed]",
      "text/plain": [
       "<matplotlib.figure.Figure at 0x7bfb1d9d1550>"
      ]
     },
     "metadata": {
      "needs_background": "light"
     },
     "output_type": "display_data"
    }
   ],
   "source": [
    "# Bar chart comparing churned vs. non-churned user behaviors\n",
    "behaviors = ['num_songs', 'num_thumbs_up', 'num_thumbs_down', 'num_add_friend', 'num_add_playlist']\n",
    "df_grouped = df_pd.groupby('churn')[behaviors].mean().reset_index()\n",
    "\n",
    "fig, ax = plt.subplots(figsize=(10, 6))\n",
    "df_grouped.set_index('churn').plot(kind='bar', ax=ax)\n",
    "plt.title('Average User Behaviors by Churn')\n",
    "plt.xlabel('Churn')\n",
    "plt.ylabel('Average Count')\n",
    "plt.show()\n"
   ]
  },
  {
   "cell_type": "markdown",
   "metadata": {},
   "source": [
    "# Modeling\n",
    "Split the full dataset into train, test, and validation sets. Test out several of the machine learning methods you learned. Evaluate the accuracy of the various models, tuning parameters as necessary. Determine your winning model based on test accuracy and report results on the validation set. Since the churned users are a fairly small subset, I suggest using F1 score as the metric to optimize."
   ]
  },
  {
   "cell_type": "code",
   "execution_count": 19,
   "metadata": {},
   "outputs": [
    {
     "data": {
      "text/plain": [
       "DataFrame[userId: string, num_songs: bigint, total_session_length: double, num_thumbs_up: bigint, num_thumbs_down: bigint, num_add_friend: bigint, num_add_playlist: bigint, churn: int]"
      ]
     },
     "execution_count": 19,
     "metadata": {},
     "output_type": "execute_result"
    }
   ],
   "source": [
    "# Split the data into training, validation, and testing sets\n",
    "train, validation, test = features.randomSplit([0.6, 0.2, 0.2], seed=42)\n",
    "\n",
    "train.cache()\n",
    "validation.cache()\n",
    "test.cache()\n"
   ]
  },
  {
   "cell_type": "code",
   "execution_count": 20,
   "metadata": {},
   "outputs": [
    {
     "name": "stdout",
     "output_type": "stream",
     "text": [
      "Logistic Regression F1 Score: 0.6388122204244788\n",
      "Random Forest F1 Score: 0.6249084249084249\n",
      "Gradient-Boosted Trees F1 Score: 0.5969471624266145\n"
     ]
    }
   ],
   "source": [
    "from pyspark.ml.classification import LogisticRegression, RandomForestClassifier, GBTClassifier\n",
    "from pyspark.ml.evaluation import MulticlassClassificationEvaluator\n",
    "from pyspark.ml import Pipeline\n",
    "from pyspark.ml.feature import VectorAssembler, StandardScaler\n",
    "\n",
    "# Define the feature columns\n",
    "feature_columns = [\"num_songs\", \"total_session_length\", \"num_thumbs_up\", \"num_thumbs_down\", \"num_add_friend\", \"num_add_playlist\"]\n",
    "\n",
    "# Assemble features into a feature vector\n",
    "assembler = VectorAssembler(inputCols=feature_columns, outputCol=\"unscaled_features\")\n",
    "\n",
    "# Scale features\n",
    "scaler = StandardScaler(inputCol=\"unscaled_features\", outputCol=\"features\")\n",
    "\n",
    "# Create models\n",
    "lr = LogisticRegression(labelCol=\"churn\", featuresCol=\"features\")\n",
    "rf = RandomForestClassifier(labelCol=\"churn\", featuresCol=\"features\")\n",
    "gbt = GBTClassifier(labelCol=\"churn\", featuresCol=\"features\")\n",
    "\n",
    "# Create a function to train and evaluate models\n",
    "def train_and_evaluate(model, train, validation):\n",
    "    pipeline = Pipeline(stages=[assembler, scaler, model])\n",
    "    model_fitted = pipeline.fit(train)\n",
    "    predictions = model_fitted.transform(validation)\n",
    "    \n",
    "    evaluator = MulticlassClassificationEvaluator(labelCol=\"churn\", metricName=\"f1\")\n",
    "    f1_score = evaluator.evaluate(predictions)\n",
    "    \n",
    "    return model_fitted, f1_score\n",
    "\n",
    "# Train and evaluate models\n",
    "models = {\"Logistic Regression\": lr, \"Random Forest\": rf, \"Gradient-Boosted Trees\": gbt}\n",
    "results = {}\n",
    "\n",
    "for name, model in models.items():\n",
    "    fitted_model, f1 = train_and_evaluate(model, train, validation)\n",
    "    results[name] = {\"model\": fitted_model, \"f1_score\": f1}\n",
    "\n",
    "# Display the results\n",
    "for name, result in results.items():\n",
    "    print(f\"{name} F1 Score: {result['f1_score']}\")\n"
   ]
  },
  {
   "cell_type": "code",
   "execution_count": 20,
   "metadata": {},
   "outputs": [
    {
     "name": "stdout",
     "output_type": "stream",
     "text": [
      "Best Logistic Regression Model F1 Score on Validation Set: 0.5952380952380952\n"
     ]
    }
   ],
   "source": [
    "from pyspark.ml.tuning import CrossValidator, ParamGridBuilder\n",
    "\n",
    "# Hyperparameter tuning for Logistic Regression (smaller grid)\n",
    "paramGrid_lr = ParamGridBuilder() \\\n",
    "    .addGrid(lr.regParam, [0.1, 1.0]) \\\n",
    "    .addGrid(lr.elasticNetParam, [0.0, 0.5]) \\\n",
    "    .build()\n",
    "\n",
    "crossval_lr = CrossValidator(estimator=Pipeline(stages=[assembler, scaler, lr]),\n",
    "                             estimatorParamMaps=paramGrid_lr,\n",
    "                             evaluator=MulticlassClassificationEvaluator(labelCol=\"churn\", metricName=\"f1\"),\n",
    "                             numFolds=3)\n",
    "\n",
    "cvModel_lr = crossval_lr.fit(train)\n",
    "\n",
    "# Evaluate the best Logistic Regression model on the validation set\n",
    "validation_predictions_lr = cvModel_lr.transform(validation)\n",
    "f1_score_lr = MulticlassClassificationEvaluator(labelCol=\"churn\", metricName=\"f1\").evaluate(validation_predictions_lr)\n",
    "\n",
    "print(f\"Best Logistic Regression Model F1 Score on Validation Set: {f1_score_lr}\")\n",
    "\n"
   ]
  },
  {
   "cell_type": "code",
   "execution_count": 21,
   "metadata": {},
   "outputs": [
    {
     "name": "stdout",
     "output_type": "stream",
     "text": [
      "Best Random Forest Model F1 Score on Validation Set: 0.6388122204244788\n"
     ]
    }
   ],
   "source": [
    "# Hyperparameter tuning for Random Forest\n",
    "paramGrid_rf = ParamGridBuilder() \\\n",
    "    .addGrid(rf.numTrees, [10, 20]) \\\n",
    "    .addGrid(rf.maxDepth, [5, 10]) \\\n",
    "    .build()\n",
    "\n",
    "crossval_rf = CrossValidator(estimator=Pipeline(stages=[assembler, scaler, rf]),\n",
    "                             estimatorParamMaps=paramGrid_rf,\n",
    "                             evaluator=MulticlassClassificationEvaluator(labelCol=\"churn\", metricName=\"f1\"),\n",
    "                             numFolds=3)\n",
    "\n",
    "cvModel_rf = crossval_rf.fit(train)\n",
    "\n",
    "# Evaluate the best Random Forest model on the validation set\n",
    "validation_predictions_rf = cvModel_rf.transform(validation)\n",
    "f1_score_rf = MulticlassClassificationEvaluator(labelCol=\"churn\", metricName=\"f1\").evaluate(validation_predictions_rf)\n",
    "\n",
    "print(f\"Best Random Forest Model F1 Score on Validation Set: {f1_score_rf}\")\n"
   ]
  },
  {
   "cell_type": "code",
   "execution_count": 22,
   "metadata": {},
   "outputs": [
    {
     "name": "stdout",
     "output_type": "stream",
     "text": [
      "Best Random Forest Model F1 Score on Test Set: 0.706288032454361\n",
      "+------+-----+----------+--------------------+\n",
      "|userId|churn|prediction|         probability|\n",
      "+------+-----+----------+--------------------+\n",
      "|200002|    0|       1.0|[0.40493202439050...|\n",
      "|    51|    1|       0.0|[0.91392054125247...|\n",
      "|    15|    0|       0.0|[0.90812950115222...|\n",
      "|     3|    1|       0.0|[0.92286438067207...|\n",
      "|    34|    0|       0.0|[0.54225810350947...|\n",
      "+------+-----+----------+--------------------+\n",
      "only showing top 5 rows\n",
      "\n"
     ]
    }
   ],
   "source": [
    "# Evaluate the best Random Forest model on the test set\n",
    "test_predictions_rf = cvModel_rf.transform(test)\n",
    "test_f1_score_rf = MulticlassClassificationEvaluator(labelCol=\"churn\", metricName=\"f1\").evaluate(test_predictions_rf)\n",
    "\n",
    "print(f\"Best Random Forest Model F1 Score on Test Set: {test_f1_score_rf}\")\n",
    "\n",
    "# Show some predictions\n",
    "test_predictions_rf.select(\"userId\", \"churn\", \"prediction\", \"probability\").show(5)\n"
   ]
  },
  {
   "cell_type": "markdown",
   "metadata": {},
   "source": [
    "# Final Steps\n",
    "Clean up your code, adding comments and renaming variables to make the code easier to read and maintain. Refer to the Spark Project Overview page and Data Scientist Capstone Project Rubric to make sure you are including all components of the capstone project and meet all expectations. Remember, this includes thorough documentation in a README file in a Github repository, as well as a web app or blog post."
   ]
  },
  {
   "cell_type": "code",
   "execution_count": null,
   "metadata": {},
   "outputs": [],
   "source": []
  }
 ],
 "metadata": {
  "kernelspec": {
   "display_name": "Python 3",
   "language": "python",
   "name": "python3"
  },
  "language_info": {
   "codemirror_mode": {
    "name": "ipython",
    "version": 3
   },
   "file_extension": ".py",
   "mimetype": "text/x-python",
   "name": "python",
   "nbconvert_exporter": "python",
   "pygments_lexer": "ipython3",
   "version": "3.6.3"
  }
 },
 "nbformat": 4,
 "nbformat_minor": 2
}
